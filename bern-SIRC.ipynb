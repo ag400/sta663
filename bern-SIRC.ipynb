{
 "cells": [
  {
   "cell_type": "code",
   "execution_count": 2,
   "metadata": {},
   "outputs": [],
   "source": [
    "import numpy as np\n",
    "import math\n",
    "from scipy.stats import norm, gamma, poisson\n",
    "import operator\n",
    "import pandas as pd\n",
    "import sys\n",
    "from functools import reduce\n",
    "import time"
   ]
  },
  {
   "cell_type": "code",
   "execution_count": 1,
   "metadata": {},
   "outputs": [],
   "source": [
    "def bernSIRC(n, beta, gamma, p, CUT):\n",
    "    t, count = 0, 0\n",
    "    MAT = np.random.binomial(1, p, n**2).reshape((n, n))\n",
    "    rowM = np.sum(MAT, axis = 1)\n",
    "    # Set individual 1 infectious and everybody else susceptible.\n",
    "    I = np.zeros(n)\n",
    "    I[0] = 1\n",
    "    output = np.zeros(n) # Recovery times\n",
    "    cut_count = 1\n",
    "    while np.sum(I == 1) > 0 and cut_count < CUT:\n",
    "        rec = np.sum(I == 1)\n",
    "        infe = np.sum(rowM[I == 1])\n",
    "        t+= np.random.exponential(1/gamma*rec+beta*infe, 1)\n",
    "        u = np.random.uniform(0, 1, 1)\n",
    "        if u <= beta*infe/(gamma*rec+beta*infe):\n",
    "            S = np.zeros(n)\n",
    "            S[I==1] = rowM[I==1]\n",
    "            K = np.random.choice(np.arange(n), 1, p = S/S.sum(), replace = True)\n",
    "            J = np.random.choice(np.arange(n), 1, p = MAT[K,].ravel()/MAT[K,].ravel().sum(), replace = True)\n",
    "            if I[J] == 0:\n",
    "                I[J] = 1\n",
    "                cut_count+=1\n",
    "        else:\n",
    "            S = np.zeros(n)\n",
    "            S[I==1] = 1\n",
    "            K = np.random.choice(n, 1, p = S/S.sum(), replace = True)\n",
    "            I[K] = 2\n",
    "            count+=1\n",
    "            output[count-1]=t\n",
    "            \n",
    "    if cut_count==CUT:\n",
    "        count=cut_count\n",
    "        \n",
    "    return output, count"
   ]
  },
  {
   "cell_type": "code",
   "execution_count": 3,
   "metadata": {
    "scrolled": true
   },
   "outputs": [
    {
     "data": {
      "text/plain": [
       "0.08352398872375488"
      ]
     },
     "execution_count": 3,
     "metadata": {},
     "output_type": "execute_result"
    }
   ],
   "source": [
    "sin = time.time()\n",
    "N = 10\n",
    "OUT = np.zeros((N,89))\n",
    "PARA = np.zeros((N,5))\n",
    "\n",
    "for i in range(1,N):\n",
    "    \n",
    "    p = np.random.uniform(size=1)\n",
    "    beta = np.random.exponential(scale = 1/2, size=1)\n",
    "    gamma = np.random.gamma(shape = 2, size = 1, scale = 1)\n",
    "    \n",
    "    Xout = bernSIRC(89, beta, gamma, p,40)\n",
    "    OUT[i-1,] = Xout[0]\n",
    "    PARA[i-1,] =  np.r_[p, beta, gamma, Xout[1], OUT[i-1,Xout[1]-1]]\n",
    "\n",
    "sout = time.time()\n",
    "sout - sin"
   ]
  },
  {
   "cell_type": "code",
   "execution_count": null,
   "metadata": {},
   "outputs": [],
   "source": []
  }
 ],
 "metadata": {
  "kernelspec": {
   "display_name": "Python 3",
   "language": "python",
   "name": "python3"
  },
  "language_info": {
   "codemirror_mode": {
    "name": "ipython",
    "version": 3
   },
   "file_extension": ".py",
   "mimetype": "text/x-python",
   "name": "python",
   "nbconvert_exporter": "python",
   "pygments_lexer": "ipython3",
   "version": "3.6.5"
  }
 },
 "nbformat": 4,
 "nbformat_minor": 2
}
