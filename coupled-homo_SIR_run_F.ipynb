{
 "cells": [
  {
   "cell_type": "code",
   "execution_count": 7,
   "metadata": {},
   "outputs": [],
   "source": [
    "import numpy as np\n",
    "import math\n",
    "from scipy.stats import norm, gamma, poisson\n",
    "import operator\n",
    "import pandas as pd\n",
    "import sys\n",
    "from functools import reduce\n",
    "import time"
   ]
  },
  {
   "cell_type": "code",
   "execution_count": 16,
   "metadata": {},
   "outputs": [],
   "source": [
    "def epigammaF(n, m, run, k):\n",
    "    \"\"\"Simulates epidemics with a Gamma(k,k) infectious period.\"\"\" \n",
    "    # output gives the set of lambda parameters consistent with the data (m out of n infected)\n",
    "    # Only successful simulations kept \n",
    "    # k=0 constant infectious period\n",
    "    \n",
    "    output = np.zeros((run, 2))\n",
    "    count, j = 0, 0\n",
    "    while j<run:\n",
    "        t = thres(n)\n",
    "        count+=1\n",
    "        if k>0:\n",
    "            q = np.random.gamma(k, 1/k, n)\n",
    "        if k == 0:\n",
    "            q = np.repeat(1, n)\n",
    "        y = []\n",
    "        for i in range(1, n):\n",
    "            y.append(t[i-1]/np.sum(q[0:i]))\n",
    "        q = max(y[0:(m-1)])\n",
    "        if q<y[m-1]:           \n",
    "            output[j,:] = np.array([q, y[m-1]])\n",
    "            j+=1\n",
    "        \n",
    "    return output\n",
    "\n",
    "\n",
    "def Mexp(k,Lambda,U,a,b):\n",
    "    \"\"\"Moment calculator for Exp(\\lambda) prior.\"\"\"\n",
    "    if k == 0:\n",
    "        U+=math.exp(-a*Lambda)-math.exp(-Lambda*b)\n",
    "    if k>0:\n",
    "        U+=a**k*math.exp(-Lambda*a)-b**k*math.exp(-Lambda*b)+k/Lambda*Mexp((k-1), Lambda, U, a, b)\n",
    "        \n",
    "    return U\n",
    "\n",
    "\n",
    "def thres(n):\n",
    "    thres = np.zeros(n-1)\n",
    "    thres[0] = np.random.exponential(n/(n-1), 1)[0]\n",
    "    for i in range(1, n-1):\n",
    "        thres[i] = thres[i-1] + np.random.exponential(n/(n-i-1), 1)[0]\n",
    "    return thres"
   ]
  },
  {
   "cell_type": "code",
   "execution_count": 70,
   "metadata": {
    "scrolled": true
   },
   "outputs": [
    {
     "name": "stdout",
     "output_type": "stream",
     "text": [
      "1.1587773886158066\n",
      "0.2967393697463124\n"
     ]
    },
    {
     "data": {
      "text/plain": [
       "190.11666631698608"
      ]
     },
     "execution_count": 70,
     "metadata": {},
     "output_type": "execute_result"
    }
   ],
   "source": [
    "tstartC = time.time()\n",
    "\n",
    "# Homogeneously mixing SIR code\n",
    "run = 10000\n",
    "\n",
    "# Code for Abikiliki data: n=120, m=30\n",
    "# Gamma distributed infectious period\n",
    "wk = epigammaF(120,30,run,1)\n",
    "\n",
    "#meanC(wk)\n",
    "#sdC(wk)\n",
    "moM=np.repeat(0.0,3)\n",
    "\n",
    "for i in range(1,run+1):\n",
    "    \n",
    "    for j in range(1,4):\n",
    "        \n",
    "        moM[j-1] = moM[j-1] + Mexp((j-1),1,0,wk[i-1,0],wk[i-1,1])\n",
    "        \n",
    "print(moM[1]/moM[0])\n",
    "print(np.sqrt(moM[2]/moM[0]-(moM[1]/moM[0])**2))\n",
    "\n",
    "tendC = time.time()\n",
    "tendC-tstartC"
   ]
  },
  {
   "cell_type": "code",
   "execution_count": null,
   "metadata": {},
   "outputs": [],
   "source": [
    "#\n",
    "# Homogeneously mixing SIR code\n",
    "#\n",
    "\n",
    "tstartC=proc.time()\n",
    "\n",
    "#\n",
    "# Code for Abikiliki data: n=120, m=30\n",
    "#\n",
    "\n",
    "run=10000\n",
    "\n",
    "# Gamma distributed infectious period\n",
    "wk=epigammaF(120,30,run,1)\n",
    "\n",
    "#\n",
    "#meanC(wk)\n",
    "#sdC(wk)\n",
    "\n",
    "moM=rep(0,3)\n",
    "\n",
    "for(i in 1:run)\n",
    "{\n",
    "for(j in 1:3)\n",
    "{\n",
    "moM[j]=moM[j]+Mexp((j-1),1,0,wk[i,1],wk[i,2])\n",
    "}\n",
    "}\n",
    "\n",
    "moM[2]/moM[1]\n",
    "sqrt(moM[3]/moM[1]-(moM[2]/moM[1])^2)\n",
    "\n",
    "\n",
    "tendC=proc.time()\n",
    "tendC-tstartC\n"
   ]
  }
 ],
 "metadata": {
  "kernelspec": {
   "display_name": "Python 3",
   "language": "python",
   "name": "python3"
  },
  "language_info": {
   "codemirror_mode": {
    "name": "ipython",
    "version": 3
   },
   "file_extension": ".py",
   "mimetype": "text/x-python",
   "name": "python",
   "nbconvert_exporter": "python",
   "pygments_lexer": "ipython3",
   "version": "3.6.5"
  }
 },
 "nbformat": 4,
 "nbformat_minor": 2
}
