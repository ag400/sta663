{
 "cells": [
  {
   "cell_type": "code",
   "execution_count": null,
   "metadata": {},
   "outputs": [],
   "source": [
    "import numpy as np\n",
    "import math\n",
    "from scipy.stats import norm, gamma, poisson"
   ]
  },
  {
   "cell_type": "code",
   "execution_count": 44,
   "metadata": {
    "scrolled": true
   },
   "outputs": [
    {
     "data": {
      "text/plain": [
       "array([[15, 12,  4],\n",
       "       [11, 17,  4],\n",
       "       [ 0, 21,  4],\n",
       "       [ 0,  0,  5]])"
      ]
     },
     "execution_count": 44,
     "metadata": {},
     "output_type": "execute_result"
    }
   ],
   "source": [
    "SeattleA = np.array([[15,12,4],[11,17,4],[0,21,4],[0,0,5]])\n",
    "SeattleA"
   ]
  },
  {
   "cell_type": "code",
   "execution_count": 63,
   "metadata": {},
   "outputs": [
    {
     "data": {
      "text/plain": [
       "array([[66., 87., 25., 22.,  4.,  0.,  0.],\n",
       "       [13., 14., 15.,  9.,  4.,  0.,  0.],\n",
       "       [ 0.,  4.,  4.,  9.,  2.,  1.,  0.],\n",
       "       [ 0.,  0.,  4.,  3.,  1.,  1.,  1.],\n",
       "       [ 0.,  0.,  0.,  1.,  1.,  0.,  0.],\n",
       "       [ 0.,  0.,  0.,  0.,  0.,  0.,  0.],\n",
       "       [ 0.,  0.,  0.,  0.,  0.,  0.,  0.],\n",
       "       [ 0.,  0.,  0.,  0.,  0.,  0.,  0.]])"
      ]
     },
     "execution_count": 63,
     "metadata": {},
     "output_type": "execute_result"
    }
   ],
   "source": [
    "Tecumseh1 = np.zeros((8,7))\n",
    "Tecumseh1[0,0:5] = np.array((66 ,87 ,  25  , 22   , 4 ))\n",
    "Tecumseh1[1,0:5] = np.array((13 ,14 ,  15  ,  9   , 4 ))\n",
    "Tecumseh1[2,1:6] = np.array((4 ,   4  ,  9  ,  2 ,   1 ))\n",
    "Tecumseh1[3,2:7] = np.array(( 4   , 3   , 1  ,  1 ,   1))\n",
    "Tecumseh1[4,3:5] = np.array(( 1,1))\n",
    "Tecumseh1"
   ]
  },
  {
   "cell_type": "code",
   "execution_count": 45,
   "metadata": {},
   "outputs": [
    {
     "data": {
      "text/plain": [
       "{'N': 177,\n",
       " 'colA': array([1, 2, 3]),\n",
       " 'hsA': array([26, 50, 17]),\n",
       " 'isA': array([31, 32, 25,  5]),\n",
       " 'rowA': array([0, 1, 2, 3]),\n",
       " 'xA': 97}"
      ]
     },
     "execution_count": 45,
     "metadata": {},
     "output_type": "execute_result"
    }
   ],
   "source": [
    "#\n",
    "# Process data\n",
    "#\n",
    "\n",
    "def process(DATA):\n",
    "    hsA = np.sum(DATA,axis=0)\n",
    "    isA = np.sum(DATA,axis=1)\n",
    "    colA = np.array(range(1,len(hsA)+1))\n",
    "    rowA = np.array(range(0,len(hsA)+1))\n",
    "    \n",
    "    xA = np.sum(isA*rowA) # Final size\n",
    "    N = np.sum(hsA*colA) # Population size\n",
    "    \n",
    "    return {'hsA' : hsA, 'isA' : isA, 'colA' : colA, 'rowA' : rowA, 'xA' : xA, 'N' : N}\n",
    "\n",
    "process(SeattleA)"
   ]
  },
  {
   "cell_type": "code",
   "execution_count": null,
   "metadata": {},
   "outputs": [],
   "source": []
  },
  {
   "cell_type": "code",
   "execution_count": 4,
   "metadata": {},
   "outputs": [
    {
     "data": {
      "text/plain": [
       "array([0.03095242, 0.06987667, 0.52390916, 0.67681226])"
      ]
     },
     "execution_count": 4,
     "metadata": {},
     "output_type": "execute_result"
    }
   ],
   "source": [
    "# Code for setting (local) thresholds in a household of size n.\n",
    "# \n",
    "# Note local thresholds not required for households of size 1.\n",
    "# Infection rate does not depend upon households size.\n",
    "#\n",
    "\n",
    "def thresH(n):\n",
    "    thres = np.repeat(0.0,n-1)\n",
    "    thres[0] = np.random.exponential(size=1,scale=1/(n-1))\n",
    "    if n > 2:\n",
    "        for i in range(1,n-1):\n",
    "            thres[i] = thres[i-1] + np.random.exponential(size=1, scale=1/(n-i))\n",
    "    \n",
    "    return thres\n",
    "\n",
    "thresH(5)"
   ]
  },
  {
   "cell_type": "code",
   "execution_count": null,
   "metadata": {},
   "outputs": [],
   "source": []
  },
  {
   "cell_type": "code",
   "execution_count": 5,
   "metadata": {},
   "outputs": [],
   "source": [
    "def House_epi(n,k,lambda_L):\n",
    "    if n == 1:\n",
    "        i = 1\n",
    "        if k == 0:\n",
    "            sev = 1\n",
    "        if k > 0:\n",
    "            sev = np.random.gamma(k, 1/k, 1)\n",
    "    \n",
    "    if n > 1:\n",
    "        t = thresH(n)\n",
    "        if k == 0:\n",
    "            q = np.repeat(1.0,n)\n",
    "        if k > 0:\n",
    "            q = np.random.gamma(size=n, shape=k, scale=1/k)\n",
    "        t = np.append(t, 2*lambda_L*np.sum(q))\n",
    "        \n",
    "        i = 0\n",
    "        test = 0\n",
    "        while test == 0:\n",
    "            i += 1\n",
    "            if t[i-1] > (lambda_L*np.sum(q[0:i])):\n",
    "                test = 1 \n",
    "                sev = np.sum(q[0:i])\n",
    "                \n",
    "    return np.array([i,sev])"
   ]
  },
  {
   "cell_type": "code",
   "execution_count": 6,
   "metadata": {},
   "outputs": [
    {
     "data": {
      "text/plain": [
       "array([1.        , 0.76493781])"
      ]
     },
     "execution_count": 6,
     "metadata": {},
     "output_type": "execute_result"
    }
   ],
   "source": [
    "House_epi(1,3,0.21)"
   ]
  },
  {
   "cell_type": "code",
   "execution_count": 7,
   "metadata": {},
   "outputs": [
    {
     "data": {
      "text/plain": [
       "array([1.        , 1.05667602])"
      ]
     },
     "execution_count": 7,
     "metadata": {},
     "output_type": "execute_result"
    }
   ],
   "source": [
    "House_epi(3,5,0.21)"
   ]
  },
  {
   "cell_type": "code",
   "execution_count": null,
   "metadata": {},
   "outputs": [],
   "source": []
  },
  {
   "cell_type": "code",
   "execution_count": 8,
   "metadata": {},
   "outputs": [],
   "source": [
    "#\n",
    "# Code for simulating a household epidemic using the Sellke construction\n",
    "#\n",
    "\n",
    "def House_SEL(hs, lambda_G, lambda_L, k):\n",
    "    HH = hs.size\n",
    "    ks = np.array(range(1,HH+1))\n",
    "\n",
    "    n = np.repeat(ks,hs)\n",
    "\n",
    "    m = n.size  # Number of households\n",
    "    N = n.sum() # Population size\n",
    "    NS = N\n",
    "\n",
    "    sev = 0\n",
    "    threshold = 0\n",
    "\n",
    "    ni = np.repeat(0,m)\n",
    "    ns = n.copy()\n",
    "\n",
    "    R = np.random.exponential(size=N)\n",
    "\n",
    "    while threshold <= lambda_G*sev:\n",
    "        kk = np.random.choice(a=np.arange(m)+1, size = 1, replace = True, p = ns/(ns.sum()))[0]\n",
    "        \n",
    "        hou_epi = House_epi(ns[kk-1],k,lambda_L)\n",
    "        ns[kk-1] = ns[kk-1] - hou_epi[0]\n",
    "        sev = sev + hou_epi[1]\n",
    "        \n",
    "        ni[kk-1] = n[kk-1]-ns[kk-1] \n",
    "        #NS=NS-hou_epi[0]\n",
    "        NS=ns.sum()\n",
    "        \n",
    "        if NS > 0:\n",
    "            threshold = threshold + np.random.exponential(scale = NS/N, size=1)[0]\n",
    "        if NS == 0:\n",
    "            threshold = 2*lambda_G*sev\n",
    "        \n",
    "    OUT = np.zeros((HH+1,HH))\n",
    "    for i in range(1, HH+2):\n",
    "        for j in range(1,HH+1):\n",
    "            OUT[i-1,j-1] = sum(n[ni==(i-1)]==j)\n",
    "    \n",
    "    return OUT"
   ]
  },
  {
   "cell_type": "code",
   "execution_count": 9,
   "metadata": {},
   "outputs": [
    {
     "data": {
      "text/plain": [
       "array([[0., 0., 0.],\n",
       "       [1., 0., 0.],\n",
       "       [0., 2., 0.],\n",
       "       [0., 0., 3.]])"
      ]
     },
     "execution_count": 9,
     "metadata": {},
     "output_type": "execute_result"
    }
   ],
   "source": [
    "hs = np.array([1,2,3])\n",
    "lambda_G = 0.9\n",
    "lambda_L = 0.21\n",
    "k=5\n",
    "House_SEL(hs, lambda_G, lambda_L, 0)"
   ]
  },
  {
   "cell_type": "code",
   "execution_count": null,
   "metadata": {},
   "outputs": [],
   "source": []
  },
  {
   "cell_type": "code",
   "execution_count": 38,
   "metadata": {
    "scrolled": true
   },
   "outputs": [],
   "source": [
    "OUTPUT = np.zeros((run,2))\n",
    "hs = np.sum(Xdata,axis=0).astype('int')\n",
    "isB = np.sum(Xdata,axis=1)\n",
    "rowB = np.arange(hs.size+1)\n",
    "xB = sum(isB*rowB)\n",
    "simcount = 0\n",
    "j = 0"
   ]
  },
  {
   "cell_type": "code",
   "execution_count": 39,
   "metadata": {},
   "outputs": [
    {
     "data": {
      "text/plain": [
       "1"
      ]
     },
     "execution_count": 39,
     "metadata": {},
     "output_type": "execute_result"
    }
   ],
   "source": [
    "simcount = simcount+1\n",
    "simcount"
   ]
  },
  {
   "cell_type": "code",
   "execution_count": 40,
   "metadata": {},
   "outputs": [
    {
     "data": {
      "text/plain": [
       "(array([0.44307794]), array([0.69408414]))"
      ]
     },
     "execution_count": 40,
     "metadata": {},
     "output_type": "execute_result"
    }
   ],
   "source": [
    "lambda_G = np.random.exponential(size=1)\n",
    "lambda_L = np.random.exponential(size=1)\n",
    "lambda_G, lambda_L"
   ]
  },
  {
   "cell_type": "code",
   "execution_count": 47,
   "metadata": {
    "scrolled": true
   },
   "outputs": [
    {
     "data": {
      "text/plain": [
       "array([[ 79., 104.,  46.,  44.,  12.,   2.,   1.],\n",
       "       [  0.,   0.,   1.,   0.,   0.,   0.,   0.],\n",
       "       [  0.,   1.,   1.,   0.,   0.,   0.,   0.],\n",
       "       [  0.,   0.,   0.,   0.,   0.,   0.,   0.],\n",
       "       [  0.,   0.,   0.,   0.,   0.,   0.,   0.],\n",
       "       [  0.,   0.,   0.,   0.,   0.,   0.,   0.],\n",
       "       [  0.,   0.,   0.,   0.,   0.,   0.,   0.],\n",
       "       [  0.,   0.,   0.,   0.,   0.,   0.,   0.]])"
      ]
     },
     "execution_count": 47,
     "metadata": {},
     "output_type": "execute_result"
    }
   ],
   "source": [
    "J = House_SEL(hs,lambda_G,lambda_L,k)\n",
    "J"
   ]
  },
  {
   "cell_type": "code",
   "execution_count": 48,
   "metadata": {
    "scrolled": true
   },
   "outputs": [
    {
     "data": {
      "text/plain": [
       "168.0"
      ]
     },
     "execution_count": 48,
     "metadata": {},
     "output_type": "execute_result"
    }
   ],
   "source": [
    "(abs(J-Xdata)).sum()"
   ]
  },
  {
   "cell_type": "code",
   "execution_count": 50,
   "metadata": {},
   "outputs": [
    {
     "data": {
      "text/plain": [
       "array([288.,   1.,   2.,   0.,   0.,   0.,   0.,   0.])"
      ]
     },
     "execution_count": 50,
     "metadata": {},
     "output_type": "execute_result"
    }
   ],
   "source": [
    "isJ = np.sum(J, axis=1)\n",
    "isJ"
   ]
  },
  {
   "cell_type": "code",
   "execution_count": 60,
   "metadata": {},
   "outputs": [],
   "source": [
    "j = j+1\n",
    "OUTPUT[j-1,] = np.array([lambda_G,lambda_L]).reshape((1,2))"
   ]
  },
  {
   "cell_type": "code",
   "execution_count": 61,
   "metadata": {},
   "outputs": [
    {
     "data": {
      "text/plain": [
       "array([0.44307794, 0.69408414])"
      ]
     },
     "execution_count": 61,
     "metadata": {},
     "output_type": "execute_result"
    }
   ],
   "source": [
    "OUTPUT[j-1,]"
   ]
  },
  {
   "cell_type": "code",
   "execution_count": 86,
   "metadata": {},
   "outputs": [],
   "source": [
    "#\n",
    "# Code for running vanilla ABC for households\n",
    "#\n",
    "def House_van(Xdata,epsil,k,run):\n",
    "    \"\"\"\n",
    "    Xdata - a data set\n",
    "    epsil - a numpy array of length 2\n",
    "    k - int\n",
    "    run - int\n",
    "    \"\"\"\n",
    "    \n",
    "    OUTPUT = np.zeros((run,2))\n",
    "    hs = np.sum(Xdata,axis=0).astype('int')\n",
    "    isB = np.sum(Xdata,axis=1)\n",
    "    \n",
    "    rowB = np.arange(hs.size+1)\n",
    "    xB = sum(isB*rowB)\n",
    "    \n",
    "    simcount = 0\n",
    "    j = 0\n",
    "    \n",
    "    while j<run:\n",
    "        simcount = simcount+1\n",
    "        lambda_G = np.random.exponential(size=1)\n",
    "        lambda_L = np.random.exponential(size=1)\n",
    "        J = House_SEL(hs,lambda_G,lambda_L,k)\n",
    "        \n",
    "        if ((abs(J-Xdata)).sum()) <= epsil[0]:\n",
    "            isJ = np.sum(J, axis=1)\n",
    "            if abs(sum(isJ*rowB)-xB) <= epsil[1]:\n",
    "                j = j+1\n",
    "                OUTPUT[j-1,] = np.array([lambda_G,lambda_L]).reshape((1,2))\n",
    "                print(j,simcount)\n",
    "                \n",
    "    return {'OUTPUT': OUTPUT, 'simcount' : simcount}\n",
    "            "
   ]
  },
  {
   "cell_type": "code",
   "execution_count": 87,
   "metadata": {},
   "outputs": [
    {
     "name": "stdout",
     "output_type": "stream",
     "text": [
      "1 1281\n",
      "2 14482\n",
      "3 14770\n",
      "4 17734\n",
      "5 18853\n",
      "6 19137\n",
      "7 25107\n",
      "8 29894\n",
      "9 43633\n",
      "10 47846\n"
     ]
    },
    {
     "data": {
      "text/plain": [
       "{'OUTPUT': array([[0.35019624, 0.46158189],\n",
       "        [0.56228054, 0.32819595],\n",
       "        [0.43842194, 0.31963222],\n",
       "        [0.44877964, 0.33719054],\n",
       "        [0.66813565, 0.16562908],\n",
       "        [0.57043745, 0.26558129],\n",
       "        [0.45523261, 0.32304331],\n",
       "        [0.49612672, 0.31621986],\n",
       "        [0.59713034, 0.13421639],\n",
       "        [0.76076266, 0.14317279]]), 'simcount': 47846}"
      ]
     },
     "execution_count": 87,
     "metadata": {},
     "output_type": "execute_result"
    }
   ],
   "source": [
    "Xdata = Tecumseh1\n",
    "epsil = np.array((100,10))\n",
    "k = 0\n",
    "run = 10\n",
    "House_van(Xdata,epsil,k,run)"
   ]
  },
  {
   "cell_type": "code",
   "execution_count": null,
   "metadata": {},
   "outputs": [],
   "source": []
  },
  {
   "cell_type": "code",
   "execution_count": 83,
   "metadata": {},
   "outputs": [],
   "source": [
    "def simSIR(N, beta, gamma):\n",
    "    # initial number of infectives and susceptibles;\n",
    "    I = 1\n",
    "    S = N-1\n",
    "    \n",
    "    # recording time;\n",
    "    t = 0\n",
    "    times = np.array(0)\n",
    "    \n",
    "    # a vector which records the type of event (1=infection, 2=removal)\n",
    "    type = np.array(1)\n",
    "    \n",
    "    while I > 0:\n",
    "        \n",
    "        # time to next event;\n",
    "        t = t + np.random.exponential(size=1,scale= 1/((beta/N)*I*S + gamma*I)) \n",
    "        times = np.append(times, t)\n",
    "\n",
    "        if np.random.uniform(size=1) < beta*S/(beta*S + N*gamma):\n",
    "            # infection\n",
    "            I = I+1\n",
    "            S = S-1\n",
    "            type = np.append(type,1)\n",
    "        else:\n",
    "            #removal\n",
    "            I = I-1\n",
    "            type = np.append(type,2)\n",
    "\n",
    "    return {'removal.times': times[type == 2] - min(times[type == 2]),\n",
    "           'final.size' : N-S,\n",
    "           'T' : times[times.size-1] }\n",
    "    "
   ]
  },
  {
   "cell_type": "code",
   "execution_count": 96,
   "metadata": {
    "scrolled": true
   },
   "outputs": [
    {
     "data": {
      "text/plain": [
       "{'T': 17.477588530915444,\n",
       " 'final.size': 9,\n",
       " 'removal.times': array([ 0.        ,  1.17030054,  1.37711483,  4.62185701, 10.43306819,\n",
       "        10.57373736, 10.83514311, 11.44097561, 15.48309699])}"
      ]
     },
     "execution_count": 96,
     "metadata": {},
     "output_type": "execute_result"
    }
   ],
   "source": [
    "N=10\n",
    "beta=0.9\n",
    "gamma=0.21\n",
    "out = simSIR(N, beta, gamma)\n",
    "out"
   ]
  },
  {
   "cell_type": "code",
   "execution_count": null,
   "metadata": {},
   "outputs": [],
   "source": []
  },
  {
   "cell_type": "code",
   "execution_count": 97,
   "metadata": {},
   "outputs": [
    {
     "data": {
      "text/plain": [
       "array([ 0.        ,  0.62242357,  2.23377393,  6.65353238,  8.25895286,\n",
       "        9.60161375, 12.59350746, 13.54037791, 17.3008097 , 22.91228597])"
      ]
     },
     "execution_count": 97,
     "metadata": {},
     "output_type": "execute_result"
    }
   ],
   "source": [
    "# this is function that simulates an outbreak of a predetermined final size -- to be used for the\n",
    "# Abakaliki data\n",
    "\n",
    "def simSIR_constrained(N, beta, gamma, final_size):\n",
    "    check = 0\n",
    "    while check == 0:\n",
    "        out = simSIR(N,beta,gamma)\n",
    "        if out['final.size'] >= final_size:\n",
    "            res = out['removal.times']\n",
    "            check = 1\n",
    "    \n",
    "    return res\n",
    "\n",
    "simSIR_constrained(N, beta, gamma, final_size=5)"
   ]
  },
  {
   "cell_type": "code",
   "execution_count": null,
   "metadata": {},
   "outputs": [],
   "source": []
  },
  {
   "cell_type": "code",
   "execution_count": 101,
   "metadata": {},
   "outputs": [],
   "source": [
    "# first retrieve the final size of the observed data\n",
    "final_size_obs = obs_data.size\n",
    "\n",
    "# matrix to store the posterior samples\n",
    "post_samples = np.zeros((samples,2))\n",
    "\n",
    "i = 0"
   ]
  },
  {
   "cell_type": "code",
   "execution_count": 102,
   "metadata": {},
   "outputs": [
    {
     "data": {
      "text/plain": [
       "(array([7.75560615]), array([15.10640164]))"
      ]
     },
     "execution_count": 102,
     "metadata": {},
     "output_type": "execute_result"
    }
   ],
   "source": [
    "beta = np.random.exponential(size = 1, scale = 1/prior_param[0])   \n",
    "gamma = np.random.exponential(size = 1, scale = 1/prior_param[1]) \n",
    "beta,gamma"
   ]
  },
  {
   "cell_type": "code",
   "execution_count": 151,
   "metadata": {
    "scrolled": true
   },
   "outputs": [
    {
     "data": {
      "text/plain": [
       "{'T': 0.1625063350596356,\n",
       " 'final.size': 7,\n",
       " 'removal.times': array([0.        , 0.01877213, 0.02526322, 0.03273698, 0.03938731,\n",
       "        0.09742827, 0.1083509 ])}"
      ]
     },
     "execution_count": 151,
     "metadata": {},
     "output_type": "execute_result"
    }
   ],
   "source": [
    "sim_data = simSIR(N, beta, gamma)\n",
    "sim_data"
   ]
  },
  {
   "cell_type": "code",
   "execution_count": 168,
   "metadata": {},
   "outputs": [],
   "source": [
    "def abcSIR(obs_data, N, epsilon, prior_param, samples):\n",
    "    \n",
    "    # first retrieve the final size of the observed data\n",
    "    final_size_obs = obs_data.size\n",
    "    \n",
    "    # matrix to store the posterior samples\n",
    "    post_samples = np.nan * np.zeros((samples,2))\n",
    "    \n",
    "    i = 0\n",
    "    while i < samples:\n",
    "        \n",
    "        # draw from the prior distribution\n",
    "        beta = np.random.exponential(size = 1, scale = 1/prior_param[0])   \n",
    "        gamma = np.random.exponential(size = 1, scale = 1/prior_param[1]) \n",
    "        \n",
    "        # simulate data\n",
    "        sim_data = simSIR(N, beta, gamma)\n",
    "      \n",
    "        #check if the final size matches the observedata\n",
    "        if sim_data['final.size'] == final_size_obs:\n",
    "            d = sum((obs_data - sim_data['removal.times'])**2)\n",
    "            \n",
    "            if d < epsilon:\n",
    "                i = i+1\n",
    "                post_samples[i-1,] = np.array((beta,gamma))\n",
    "    \n",
    "    return post_samples"
   ]
  },
  {
   "cell_type": "code",
   "execution_count": null,
   "metadata": {},
   "outputs": [],
   "source": [
    "obs_data = np.array((2,6,3,7, 8, 4, 0))\n",
    "N = 120\n",
    "epsilon = 11\n",
    "prior_param = np.array((0.1,0.1))\n",
    "samples = 500"
   ]
  },
  {
   "cell_type": "code",
   "execution_count": null,
   "metadata": {},
   "outputs": [],
   "source": [
    "abcSIR(obs_data, N, epsilon, prior_param, samples)"
   ]
  },
  {
   "cell_type": "code",
   "execution_count": 163,
   "metadata": {
    "scrolled": true
   },
   "outputs": [
    {
     "data": {
      "text/plain": [
       "175.78006021847742"
      ]
     },
     "execution_count": 163,
     "metadata": {},
     "output_type": "execute_result"
    }
   ],
   "source": [
    "sum((obs_data - sim_data['removal.times'])**2)"
   ]
  },
  {
   "cell_type": "code",
   "execution_count": null,
   "metadata": {},
   "outputs": [],
   "source": []
  },
  {
   "cell_type": "code",
   "execution_count": null,
   "metadata": {},
   "outputs": [],
   "source": [
    "def abcSIR_binned(obs_data_binned, breaks_data, obs_duration, N, epsilon, prior_param, samples):\n",
    "    \n",
    "    # first retrieve the final size of the observed data\n",
    "    final_size_obs = obs_data_binned.size\n",
    "    \n",
    "    # matrix to store the posterior samples\n",
    "    post_samples = np.nan * np.zeros((samples,2))\n",
    "\n",
    "    K = 0\n",
    "   \n",
    "    i = 0\n",
    "    \n",
    "    while i < samples:\n",
    "        \n",
    "        # counter\n",
    "        K = K + 1\n",
    "        \n",
    "        # draw from the prior distribution\n",
    "        beta = np.random.exponential(size = 1, scale = 1/prior_param[0])   \n",
    "        gamma = np.random.exponential(size = 1, scale = 1/prior_param[1]) \n",
    "        \n",
    "        # simulate data\n",
    "        sim_data = simSIR(N, beta, gamma)\n",
    "        sim_duration = sim_data['T']\n",
    "        sim_data_binned = np.array(sum(sim.data['removal.times']<=breaks_data[1]))\n",
    "        for i in range(1,len(breaks_data)-1):\n",
    "            sim_data_binned = np.append(sim_data_binned, sum((breaks_data[i]<times) & (times<=breaks_data[i+1])))\n",
    "        \n",
    "        #check if the final size matches the observedata\n",
    "        d = np.sqrt( sum((obs_data_binned - sim_data_binned)**2) + ((obs_duration - sim_duration)/50)**2 )\n",
    "        \n",
    "        if d < epsilon:\n",
    "            i = i + 1\n",
    "            print(i)\n",
    "            post_samples[i-1,] = np.array((beta,gamma))\n",
    "         \n",
    "    print(K)\n",
    "    post_samples\n"
   ]
  },
  {
   "cell_type": "code",
   "execution_count": null,
   "metadata": {},
   "outputs": [],
   "source": [
    "obs_data = np.array((2,6,3,7, 8, 4, 0))\n",
    "N = 120\n",
    "epsilon = 11\n",
    "prior_param = np.array((0.1,0.1))\n",
    "samples = 500\n",
    "obs_duration = 76\n",
    "breaks_data = np.array((0, 13, 26, 39, 52, 65, 78, np.inf))\n",
    "breaks_data"
   ]
  },
  {
   "cell_type": "code",
   "execution_count": null,
   "metadata": {},
   "outputs": [],
   "source": [
    "abcSIR_binned(obs_data, breaks_data, obs_duration, N, epsilon, prior_param, samples)"
   ]
  },
  {
   "cell_type": "code",
   "execution_count": null,
   "metadata": {},
   "outputs": [],
   "source": []
  },
  {
   "cell_type": "code",
   "execution_count": null,
   "metadata": {},
   "outputs": [],
   "source": [
    "def simSIR_discrete(N, Lambda, gamma, T):\n",
    "    \n",
    "    # change the rate to avoidance probability\n",
    "    q = np.exp(-Lambda/N)\n",
    "    \n",
    "    # initialisation\n",
    "    t_vec = np.arange(1,T+1)\n",
    "    \n",
    "    It_vec = np.repeat(np.nan, T)   \n",
    "    St_vec = np.repeat(np.nan, T) \n",
    "    Rt_vec = np.repeat(np.nan, T) \n",
    "    \n",
    "    It_vec[0] = 1\n",
    "    St_vec[0] = N - 1\n",
    "    Rt_vec[0] = 0\n",
    "    \n",
    "    # sample infectious period for the initially infective individual\n",
    "    inf_per = np.random.geometric(p=gamma, size=1) + 1; \n",
    "   \n",
    "    # Yt.vec keeps track of the number of people being removed on each day\n",
    "    Yt_vec = np.repeat(0, T)\n",
    "   \n",
    "    # assing the value to Yt which corresponds to when the initially infective individual gets removed\n",
    "    Yt_vec[inf_per + 1] = Yt_vec[inf_per + 1] + 1  \n",
    "    \n",
    "    t = 1\n",
    "    while t < T:\n",
    "        \n",
    "        t = t + 1\n",
    "        # simulate the number of new infections for next day t\n",
    "        \n",
    "        if It_vec[t-2] > 0:\n",
    "            \n",
    "            new_inf = np.random.binomial(size = 1, n = St_vec[t-1], p = 1-q**It.vec[t-1])\n",
    "            St_vec[t-1] = St_vec[t-2] - new_inf\n",
    "            It_vec[t-1] = It_vec[t-2] + new_inf - Yt_vec[t-1] \n",
    "            \n",
    "            if new_inf > 0:\n",
    "                for j in range(1,new_inf+1):\n",
    "                    inf_per = np.random.geometric(p=gamma, size=1) + 1\n",
    "                    loc = min(t+0+inf_per, T)\n",
    "                    Yt_vec[loc-1] = Yt_vec[loc-1] +1\n",
    "                   \n",
    "        else:\n",
    "            It_vec[t-1] = It_vec[t-2]\n",
    "            St_vec[t-1] = St_vec[t-2]\n",
    "    \n",
    "    Rt_vec = np.cumsum(Yt_vec)\n",
    "    res = np.r_[It_vec, St_vec, Rt_vec, Yt_vec]\n",
    "\n",
    "    if (sum(np.sum(res[0:res.shape[1],],axis=0) - np.repeat(N, repeats= T))!=0):\n",
    "        break \n",
    "   \n",
    "    return {\"pop\" : res, \"final.size\" : sum(res[3,])} "
   ]
  },
  {
   "cell_type": "code",
   "execution_count": null,
   "metadata": {},
   "outputs": [],
   "source": []
  },
  {
   "cell_type": "code",
   "execution_count": null,
   "metadata": {},
   "outputs": [],
   "source": [
    "def abcSIR_discrete(obs_data, N, T, epsilon, prior_param, samples):\n",
    "    \n",
    "    # first retrieve the final size of the observed data\n",
    "    final_size_obs = obs_data.size\n",
    "    \n",
    "    # matrix to store the posterior samples\n",
    "    post_samples = np.nan * np.zeros((samples,2))\n",
    "    \n",
    "    i = 0\n",
    "    \n",
    "    while i < samples:\n",
    "        \n",
    "        Lambda = np.random.exponential(scale=1/prior_param[0], size=1)\n",
    "        gamma = np.random.uniform(size = 1)\n",
    "        \n",
    "        # simulate data\n",
    "        sim_data = simSIR_discrete(N, Lambda, gamma, T)\n",
    "        \n",
    "        # get start/end dates\n",
    "        start_date = min(np.where(sim_data['pop'][3,] == 1)) +1   min(which(sim_data['pop'][3,] == 1)) \n",
    "        end_date = start_date + len_out - 1\n",
    "        \n",
    "        d = sum((obs_data - sim_data['pop'][3, ][np.arange(start_date-1,end_date)])**2)\n",
    "        \n",
    "        if d < epsilon:\n",
    "            i = i+1\n",
    "            post_samples[i-1,] = np.array((Lambda, gamma))\n",
    "            \n",
    "        return post_samples"
   ]
  },
  {
   "cell_type": "code",
   "execution_count": null,
   "metadata": {},
   "outputs": [],
   "source": []
  }
 ],
 "metadata": {
  "kernelspec": {
   "display_name": "Python 3",
   "language": "python",
   "name": "python3"
  },
  "language_info": {
   "codemirror_mode": {
    "name": "ipython",
    "version": 3
   },
   "file_extension": ".py",
   "mimetype": "text/x-python",
   "name": "python",
   "nbconvert_exporter": "python",
   "pygments_lexer": "ipython3",
   "version": "3.6.5"
  }
 },
 "nbformat": 4,
 "nbformat_minor": 2
}
