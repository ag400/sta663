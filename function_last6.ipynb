{
 "cells": [
  {
   "cell_type": "code",
   "execution_count": 1,
   "metadata": {},
   "outputs": [],
   "source": [
    "import numpy as np\n",
    "import math\n",
    "from scipy.stats import norm, gamma, poisson"
   ]
  },
  {
   "cell_type": "code",
   "execution_count": 3,
   "metadata": {
    "scrolled": true
   },
   "outputs": [
    {
     "data": {
      "text/plain": [
       "array([[15, 12,  4],\n",
       "       [11, 17,  4],\n",
       "       [ 0, 21,  4],\n",
       "       [ 0,  0,  5]])"
      ]
     },
     "execution_count": 3,
     "metadata": {},
     "output_type": "execute_result"
    }
   ],
   "source": [
    "SeattleA = np.array([[15,12,4],[11,17,4],[0,21,4],[0,0,5]])\n",
    "SeattleA"
   ]
  },
  {
   "cell_type": "code",
   "execution_count": 21,
   "metadata": {},
   "outputs": [
    {
     "data": {
      "text/plain": [
       "{'N': 177,\n",
       " 'colA': array([1, 2, 3]),\n",
       " 'hsA': array([26, 50, 17]),\n",
       " 'isA': array([31, 32, 25,  5]),\n",
       " 'rowA': array([0, 1, 2, 3]),\n",
       " 'xA': 97}"
      ]
     },
     "execution_count": 21,
     "metadata": {},
     "output_type": "execute_result"
    }
   ],
   "source": [
    "#\n",
    "# Process data\n",
    "#\n",
    "\n",
    "def process(DATA):\n",
    "    hsA = np.sum(DATA,axis=0)\n",
    "    isA = np.sum(DATA,axis=1)\n",
    "    colA = np.array(range(1,len(hsA)+1))\n",
    "    rowA = np.array(range(0,len(hsA)+1))\n",
    "    \n",
    "    xA = np.sum(isA*rowA) # Final size\n",
    "    N = np.sum(hsA*colA) # Population size\n",
    "    \n",
    "    return {'hsA' : hsA, 'isA' : isA, 'colA' : colA, 'rowA' : rowA, 'xA' : xA, 'N' : N}\n",
    "\n",
    "process(SeattleA)"
   ]
  },
  {
   "cell_type": "code",
   "execution_count": 123,
   "metadata": {},
   "outputs": [
    {
     "data": {
      "text/plain": [
       "array([0.44338392, 0.51733957, 0.53504957, 1.15349319])"
      ]
     },
     "execution_count": 123,
     "metadata": {},
     "output_type": "execute_result"
    }
   ],
   "source": [
    "# Code for setting (local) thresholds in a household of size n.\n",
    "# \n",
    "# Note local thresholds not required for households of size 1.\n",
    "# Infection rate does not depend upon households size.\n",
    "#\n",
    "\n",
    "def thresH(n):\n",
    "    thres = np.repeat(0.0,n-1)\n",
    "    thres[0] = np.random.exponential(size=1,scale=1/(n-1))\n",
    "    if n > 2:\n",
    "        for i in range(1,n-1):\n",
    "            thres[i] = thres[i-1] + np.random.exponential(size=1, scale=1/(n-i))\n",
    "    \n",
    "    return thres\n",
    "\n",
    "thresH(5)"
   ]
  },
  {
   "cell_type": "code",
   "execution_count": 163,
   "metadata": {},
   "outputs": [
    {
     "data": {
      "text/plain": [
       "array([1000.        , 1001.50275018])"
      ]
     },
     "execution_count": 163,
     "metadata": {},
     "output_type": "execute_result"
    }
   ],
   "source": [
    "def House_epi(n,k,lambda_L):\n",
    "    if n == 1:\n",
    "        i = 1\n",
    "        if k == 0:\n",
    "            sev = 1\n",
    "        if k > 0:\n",
    "            sev = np.random.gamma(k, k, 1)\n",
    "    \n",
    "    if n > 1:\n",
    "        t = thresH(n)\n",
    "        if k == 0:\n",
    "            q = np.repeat(1.0,n)\n",
    "        if k > 0:\n",
    "            q = np.random.gamma(size=n, shape=k, scale=1/k)\n",
    "        t = np.append(t, 2*lambda_L*np.sum(q))\n",
    "        \n",
    "        i = 0\n",
    "        test = 0\n",
    "        while test == 0:\n",
    "            i += 1\n",
    "            if t[i-1] > (lambda_L*np.sum(q[0:i])):\n",
    "                test = 1 \n",
    "                sev = np.sum(q[0:i-1])\n",
    "                \n",
    "        return np.array([i,sev])\n",
    "    \n",
    "House_epi(1000,3,5)"
   ]
  },
  {
   "cell_type": "code",
   "execution_count": null,
   "metadata": {},
   "outputs": [],
   "source": []
  },
  {
   "cell_type": "code",
   "execution_count": null,
   "metadata": {},
   "outputs": [],
   "source": []
  }
 ],
 "metadata": {
  "kernelspec": {
   "display_name": "Python 3",
   "language": "python",
   "name": "python3"
  },
  "language_info": {
   "codemirror_mode": {
    "name": "ipython",
    "version": 3
   },
   "file_extension": ".py",
   "mimetype": "text/x-python",
   "name": "python",
   "nbconvert_exporter": "python",
   "pygments_lexer": "ipython3",
   "version": "3.6.5"
  }
 },
 "nbformat": 4,
 "nbformat_minor": 2
}
