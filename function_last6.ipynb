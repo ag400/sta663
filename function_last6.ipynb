{
 "cells": [
  {
   "cell_type": "code",
   "execution_count": 2,
   "metadata": {},
   "outputs": [],
   "source": [
    "import numpy as np\n",
    "import math\n",
    "from scipy.stats import norm, gamma, poisson"
   ]
  },
  {
   "cell_type": "code",
   "execution_count": 3,
   "metadata": {
    "scrolled": true
   },
   "outputs": [
    {
     "data": {
      "text/plain": [
       "array([[15, 12,  4],\n",
       "       [11, 17,  4],\n",
       "       [ 0, 21,  4],\n",
       "       [ 0,  0,  5]])"
      ]
     },
     "execution_count": 3,
     "metadata": {},
     "output_type": "execute_result"
    }
   ],
   "source": [
    "SeattleA = np.array([[15,12,4],[11,17,4],[0,21,4],[0,0,5]])\n",
    "SeattleA"
   ]
  },
  {
   "cell_type": "code",
   "execution_count": 4,
   "metadata": {},
   "outputs": [
    {
     "data": {
      "text/plain": [
       "{'N': 177,\n",
       " 'colA': array([1, 2, 3]),\n",
       " 'hsA': array([26, 50, 17]),\n",
       " 'isA': array([31, 32, 25,  5]),\n",
       " 'rowA': array([0, 1, 2, 3]),\n",
       " 'xA': 97}"
      ]
     },
     "execution_count": 4,
     "metadata": {},
     "output_type": "execute_result"
    }
   ],
   "source": [
    "#\n",
    "# Process data\n",
    "#\n",
    "\n",
    "def process(DATA):\n",
    "    hsA = np.sum(DATA,axis=0)\n",
    "    isA = np.sum(DATA,axis=1)\n",
    "    colA = np.array(range(1,len(hsA)+1))\n",
    "    rowA = np.array(range(0,len(hsA)+1))\n",
    "    \n",
    "    xA = np.sum(isA*rowA) # Final size\n",
    "    N = np.sum(hsA*colA) # Population size\n",
    "    \n",
    "    return {'hsA' : hsA, 'isA' : isA, 'colA' : colA, 'rowA' : rowA, 'xA' : xA, 'N' : N}\n",
    "\n",
    "process(SeattleA)"
   ]
  },
  {
   "cell_type": "code",
   "execution_count": null,
   "metadata": {},
   "outputs": [],
   "source": []
  },
  {
   "cell_type": "code",
   "execution_count": 5,
   "metadata": {},
   "outputs": [
    {
     "data": {
      "text/plain": [
       "array([0.31026297, 0.49516332, 1.30035441, 1.57965005])"
      ]
     },
     "execution_count": 5,
     "metadata": {},
     "output_type": "execute_result"
    }
   ],
   "source": [
    "# Code for setting (local) thresholds in a household of size n.\n",
    "# \n",
    "# Note local thresholds not required for households of size 1.\n",
    "# Infection rate does not depend upon households size.\n",
    "#\n",
    "\n",
    "def thresH(n):\n",
    "    thres = np.repeat(0.0,n-1)\n",
    "    thres[0] = np.random.exponential(size=1,scale=1/(n-1))\n",
    "    if n > 2:\n",
    "        for i in range(1,n-1):\n",
    "            thres[i] = thres[i-1] + np.random.exponential(size=1, scale=1/(n-i))\n",
    "    \n",
    "    return thres\n",
    "\n",
    "thresH(5)"
   ]
  },
  {
   "cell_type": "code",
   "execution_count": null,
   "metadata": {},
   "outputs": [],
   "source": []
  },
  {
   "cell_type": "code",
   "execution_count": 174,
   "metadata": {},
   "outputs": [],
   "source": [
    "def House_epi(n,k,lambda_L):\n",
    "    if n == 1:\n",
    "        i = 1\n",
    "        if k == 0:\n",
    "            sev = 1\n",
    "        if k > 0:\n",
    "            sev = np.random.gamma(k, 1/k, 1)\n",
    "    \n",
    "    if n > 1:\n",
    "        t = thresH(n)\n",
    "        if k == 0:\n",
    "            q = np.repeat(1.0,n)\n",
    "        if k > 0:\n",
    "            q = np.random.gamma(size=n, shape=k, scale=1/k)\n",
    "        t = np.append(t, 2*lambda_L*np.sum(q))\n",
    "        \n",
    "        i = 0\n",
    "        test = 0\n",
    "        while test == 0:\n",
    "            i += 1\n",
    "            if t[i-1] > (lambda_L*np.sum(q[0:i])):\n",
    "                test = 1 \n",
    "                sev = np.sum(q[0:i])\n",
    "                \n",
    "    return np.array([i,sev])"
   ]
  },
  {
   "cell_type": "code",
   "execution_count": 181,
   "metadata": {},
   "outputs": [
    {
     "data": {
      "text/plain": [
       "array([1.        , 0.39438582])"
      ]
     },
     "execution_count": 181,
     "metadata": {},
     "output_type": "execute_result"
    }
   ],
   "source": [
    "House_epi(1,3,0.21)"
   ]
  },
  {
   "cell_type": "code",
   "execution_count": 182,
   "metadata": {},
   "outputs": [
    {
     "data": {
      "text/plain": [
       "array([3.        , 2.45729978])"
      ]
     },
     "execution_count": 182,
     "metadata": {},
     "output_type": "execute_result"
    }
   ],
   "source": [
    "House_epi(3,5,0.21)"
   ]
  },
  {
   "cell_type": "code",
   "execution_count": null,
   "metadata": {},
   "outputs": [],
   "source": []
  },
  {
   "cell_type": "code",
   "execution_count": 237,
   "metadata": {},
   "outputs": [],
   "source": [
    "#\n",
    "# Code for simulating a household epidemic using the Sellke construction\n",
    "#\n",
    "\n",
    "def House_SEL(hs, lambda_G, lambda_L, k):\n",
    "    HH = hs.size\n",
    "    ks = np.array(range(1,HH+1))\n",
    "\n",
    "    n = np.repeat(ks,hs)\n",
    "\n",
    "    m = n.size  # Number of households\n",
    "    N = n.sum() # Population size\n",
    "    NS = N\n",
    "\n",
    "    sev = 0\n",
    "    threshold = 0\n",
    "\n",
    "    ni = np.repeat(0,m)\n",
    "    ns = n.copy()\n",
    "\n",
    "    R = np.random.exponential(size=N)\n",
    "\n",
    "    while threshold <= lambda_G*sev:\n",
    "        kk = np.random.choice(a=np.arange(m)+1, size = 1, replace = True, p = ns/(ns.sum()))[0]\n",
    "        \n",
    "        hou_epi = House_epi(ns[kk-1],k,lambda_L)\n",
    "        ns[kk-1] = ns[kk-1] - hou_epi[0]\n",
    "        sev = sev + hou_epi[1]\n",
    "        \n",
    "        ni[kk-1] = n[kk-1]-ns[kk-1] \n",
    "        #NS=NS-hou_epi[0]\n",
    "        NS=ns.sum()\n",
    "        \n",
    "        if NS > 0:\n",
    "            threshold = threshold + np.random.exponential(scale = NS/N, size=1)[0]\n",
    "        if NS == 0:\n",
    "            threshold = 2*lambda_G*sev\n",
    "        \n",
    "    OUT = np.zeros((HH+1,HH))\n",
    "    for i in range(1, HH+2):\n",
    "        for j in range(1,HH+1):\n",
    "            OUT[i-1,j-1] = sum(n[ni==(i-1)]==j)\n",
    "    \n",
    "    return OUT"
   ]
  },
  {
   "cell_type": "code",
   "execution_count": 245,
   "metadata": {},
   "outputs": [
    {
     "data": {
      "text/plain": [
       "array([[0., 2., 3.],\n",
       "       [1., 0., 0.],\n",
       "       [0., 0., 0.],\n",
       "       [0., 0., 0.]])"
      ]
     },
     "execution_count": 245,
     "metadata": {},
     "output_type": "execute_result"
    }
   ],
   "source": [
    "hs = np.array([1,2,3])\n",
    "lambda_G = 0.9\n",
    "lambda_L = 0.21\n",
    "k=5\n",
    "House_SEL(hs, lambda_G, lambda_L, k)"
   ]
  },
  {
   "cell_type": "code",
   "execution_count": 261,
   "metadata": {},
   "outputs": [],
   "source": [
    "Tecumseh1 = np.zeros((8,7))\n",
    "Tecumseh1[0,0:5] = np.array((66 ,87 ,  25  , 22   , 4 ))\n",
    "Tecumseh1[1,0:5] = np.array((13 ,14 ,  15  ,  9   , 4 ))\n",
    "Tecumseh1[2,1:6] = np.array((4 ,   4  ,  9  ,  2 ,   1 ))\n",
    "Tecumseh1[3,2:7] = np.array(( 4   , 3   , 1  ,  1 ,   1))\n",
    "Tecumseh1[4,3:5] = np.array(( 1,1))"
   ]
  },
  {
   "cell_type": "code",
   "execution_count": 262,
   "metadata": {},
   "outputs": [
    {
     "data": {
      "text/plain": [
       "array([[66., 87., 25., 22.,  4.,  0.,  0.],\n",
       "       [13., 14., 15.,  9.,  4.,  0.,  0.],\n",
       "       [ 0.,  4.,  4.,  9.,  2.,  1.,  0.],\n",
       "       [ 0.,  0.,  4.,  3.,  1.,  1.,  1.],\n",
       "       [ 0.,  0.,  0.,  1.,  1.,  0.,  0.],\n",
       "       [ 0.,  0.,  0.,  0.,  0.,  0.,  0.],\n",
       "       [ 0.,  0.,  0.,  0.,  0.,  0.,  0.],\n",
       "       [ 0.,  0.,  0.,  0.,  0.,  0.,  0.]])"
      ]
     },
     "execution_count": 262,
     "metadata": {},
     "output_type": "execute_result"
    }
   ],
   "source": [
    "Tecumseh1"
   ]
  },
  {
   "cell_type": "code",
   "execution_count": null,
   "metadata": {},
   "outputs": [],
   "source": []
  },
  {
   "cell_type": "code",
   "execution_count": null,
   "metadata": {},
   "outputs": [],
   "source": []
  },
  {
   "cell_type": "code",
   "execution_count": null,
   "metadata": {},
   "outputs": [],
   "source": []
  }
 ],
 "metadata": {
  "kernelspec": {
   "display_name": "Python 3",
   "language": "python",
   "name": "python3"
  }
 },
 "nbformat": 4,
 "nbformat_minor": 2
}
