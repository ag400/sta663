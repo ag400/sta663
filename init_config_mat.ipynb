{
 "cells": [
  {
   "cell_type": "code",
   "execution_count": null,
   "metadata": {},
   "outputs": [],
   "source": [
    "#' initializes the bookkeeping object for population level counts\n",
    "#'\n",
    "#' @inheritParams init_epimodel\n",
    "#' @param epimodel an epimodel list\n",
    "#' @param t0 the first observation time\n",
    "#' @param tmax the final observation time\n",
    "#'\n",
    "#' @return initialized matrix with columns to store event times and counts of\n",
    "#'   individuals in each compartment. The first and last rows of the matrix\n",
    "#'   always correspond to time 0 and tmax. The state at tmax is initialized to\n",
    "#'   init_state.\n",
    "#' @export\n",
    "#'\n",
    "#' @examples init_state <- c(S = 45, I = 5, R = 0)\n",
    "#' tmax <- 5\n",
    "#' init_pop_traj(init_state, tmax)\n",
    "#'\n",
    "init_config_mat <- function(epimodel, init_state, t0, tmax){\n",
    "\n",
    "          # initialize matrix object\n",
    "          pop_mat <- matrix(rep(c(t0, 0, 0, init_state), 2), nrow = 2, byrow = TRUE)\n",
    "          config_mat <- matrix(as.integer(rep(rep(1:length(init_state), init_state), 2)), nrow = 2, byrow = TRUE)\n",
    "\n",
    "          # set column names\n",
    "          colnames(pop_mat) <- c(\"time\", \"ID\", \"Event\", names(init_state))\n",
    "          colnames(config_mat) <- paste0(\".X\", 1:sum(init_state))\n",
    "\n",
    "          # set tmax\n",
    "          pop_mat[2, \"time\"] <- tmax\n",
    "\n",
    "          # pass to epimodel\n",
    "          epimodel$pop_mat <- pop_mat\n",
    "          epimodel$config_mat <- config_mat\n",
    "\n",
    "          return(epimodel)\n",
    "}"
   ]
  },
  {
   "cell_type": "code",
   "execution_count": null,
   "metadata": {},
   "outputs": [],
   "source": [
    "def init_config_mat(epimodel, init_state, t0, tmax):\n",
    "    \n",
    "    import numpy as np\n",
    "    import string\n",
    "    \n",
    "    pop_mat = np.tile(np.c_[t0,0,0,init_state.reshape(1,-1)],2).reshape((2,-1))\n",
    "    temp = np.repeat(range(1,init_state.size+1),init_state)\n",
    "    config_mat = np.tile(temp,2).astype('int').reshape(2,-1)\n",
    "    \n",
    "    pop_mat.dtype = [('time','float'),('ID','int'),('Event','int'),('S', 'int'), ('I', 'int'), ('R', 'int')]\n",
    "    config_mat.dtype = list(map(lambda x: ('.X'+str(x), 'int'), range(1,init_state.sum()+1)))\n",
    "    \n",
    "    pop_mat['time'][1] = tmax\n",
    "    \n",
    "    epimodel.pop_mat = pop_mat\n",
    "    epimodel.config_mat = config_mat\n",
    "    \n",
    "    return epimodel"
   ]
  },
  {
   "cell_type": "code",
   "execution_count": 58,
   "metadata": {},
   "outputs": [],
   "source": [
    "import numpy as np\n",
    "import string"
   ]
  },
  {
   "cell_type": "code",
   "execution_count": 91,
   "metadata": {},
   "outputs": [],
   "source": [
    "init_state = np.array((45,5,0))\n",
    "tmax = 5\n",
    "t0 = 1"
   ]
  },
  {
   "cell_type": "code",
   "execution_count": 92,
   "metadata": {
    "scrolled": true
   },
   "outputs": [
    {
     "data": {
      "text/plain": [
       "array([[ 1,  0,  0, 45,  5,  0],\n",
       "       [ 1,  0,  0, 45,  5,  0]])"
      ]
     },
     "execution_count": 92,
     "metadata": {},
     "output_type": "execute_result"
    }
   ],
   "source": [
    "pop_mat = np.tile(np.c_[t0,0,0,init_state.reshape(1,-1)],2).reshape((2,-1))\n",
    "pop_mat"
   ]
  },
  {
   "cell_type": "code",
   "execution_count": 94,
   "metadata": {},
   "outputs": [
    {
     "data": {
      "text/plain": [
       "array([[1, 1, 1, 1, 1, 1, 1, 1, 1, 1, 1, 1, 1, 1, 1, 1, 1, 1, 1, 1, 1, 1,\n",
       "        1, 1, 1, 1, 1, 1, 1, 1, 1, 1, 1, 1, 1, 1, 1, 1, 1, 1, 1, 1, 1, 1,\n",
       "        1, 2, 2, 2, 2, 2],\n",
       "       [1, 1, 1, 1, 1, 1, 1, 1, 1, 1, 1, 1, 1, 1, 1, 1, 1, 1, 1, 1, 1, 1,\n",
       "        1, 1, 1, 1, 1, 1, 1, 1, 1, 1, 1, 1, 1, 1, 1, 1, 1, 1, 1, 1, 1, 1,\n",
       "        1, 2, 2, 2, 2, 2]])"
      ]
     },
     "execution_count": 94,
     "metadata": {},
     "output_type": "execute_result"
    }
   ],
   "source": [
    "temp = np.repeat(range(1,init_state.size+1),init_state)\n",
    "config_mat = np.tile(temp,2).astype('int').reshape(2,-1)\n",
    "config_mat"
   ]
  },
  {
   "cell_type": "code",
   "execution_count": 95,
   "metadata": {},
   "outputs": [],
   "source": [
    "pop_mat.dtype = [('time','float'),('ID','int'),('Event','int'),('S', 'int'), ('I', 'int'), ('R', 'int')]\n",
    "config_mat.dtype = list(map(lambda x: ('.X'+str(x), 'int'), range(1,init_state.sum()+1)))\n",
    "pop_mat['time'][1] = tmax"
   ]
  },
  {
   "cell_type": "code",
   "execution_count": 96,
   "metadata": {},
   "outputs": [
    {
     "data": {
      "text/plain": [
       "array([[(5.e-324, 0, 0, 45, 5, 0)],\n",
       "       [(5.e+000, 0, 0, 45, 5, 0)]],\n",
       "      dtype=[('time', '<f8'), ('ID', '<i8'), ('Event', '<i8'), ('S', '<i8'), ('I', '<i8'), ('R', '<i8')])"
      ]
     },
     "execution_count": 96,
     "metadata": {},
     "output_type": "execute_result"
    }
   ],
   "source": [
    "pop_mat"
   ]
  },
  {
   "cell_type": "code",
   "execution_count": 97,
   "metadata": {},
   "outputs": [
    {
     "data": {
      "text/plain": [
       "array([[(1, 1, 1, 1, 1, 1, 1, 1, 1, 1, 1, 1, 1, 1, 1, 1, 1, 1, 1, 1, 1, 1, 1, 1, 1, 1, 1, 1, 1, 1, 1, 1, 1, 1, 1, 1, 1, 1, 1, 1, 1, 1, 1, 1, 1, 2, 2, 2, 2, 2)],\n",
       "       [(1, 1, 1, 1, 1, 1, 1, 1, 1, 1, 1, 1, 1, 1, 1, 1, 1, 1, 1, 1, 1, 1, 1, 1, 1, 1, 1, 1, 1, 1, 1, 1, 1, 1, 1, 1, 1, 1, 1, 1, 1, 1, 1, 1, 1, 2, 2, 2, 2, 2)]],\n",
       "      dtype=[('.X1', '<i8'), ('.X2', '<i8'), ('.X3', '<i8'), ('.X4', '<i8'), ('.X5', '<i8'), ('.X6', '<i8'), ('.X7', '<i8'), ('.X8', '<i8'), ('.X9', '<i8'), ('.X10', '<i8'), ('.X11', '<i8'), ('.X12', '<i8'), ('.X13', '<i8'), ('.X14', '<i8'), ('.X15', '<i8'), ('.X16', '<i8'), ('.X17', '<i8'), ('.X18', '<i8'), ('.X19', '<i8'), ('.X20', '<i8'), ('.X21', '<i8'), ('.X22', '<i8'), ('.X23', '<i8'), ('.X24', '<i8'), ('.X25', '<i8'), ('.X26', '<i8'), ('.X27', '<i8'), ('.X28', '<i8'), ('.X29', '<i8'), ('.X30', '<i8'), ('.X31', '<i8'), ('.X32', '<i8'), ('.X33', '<i8'), ('.X34', '<i8'), ('.X35', '<i8'), ('.X36', '<i8'), ('.X37', '<i8'), ('.X38', '<i8'), ('.X39', '<i8'), ('.X40', '<i8'), ('.X41', '<i8'), ('.X42', '<i8'), ('.X43', '<i8'), ('.X44', '<i8'), ('.X45', '<i8'), ('.X46', '<i8'), ('.X47', '<i8'), ('.X48', '<i8'), ('.X49', '<i8'), ('.X50', '<i8')])"
      ]
     },
     "execution_count": 97,
     "metadata": {},
     "output_type": "execute_result"
    }
   ],
   "source": [
    "config_mat"
   ]
  },
  {
   "cell_type": "code",
   "execution_count": null,
   "metadata": {},
   "outputs": [],
   "source": []
  }
 ],
 "metadata": {
  "kernelspec": {
   "display_name": "Python 3",
   "language": "python",
   "name": "python3"
  },
  "language_info": {
   "codemirror_mode": {
    "name": "ipython",
    "version": 3
   },
   "file_extension": ".py",
   "mimetype": "text/x-python",
   "name": "python",
   "nbconvert_exporter": "python",
   "pygments_lexer": "ipython3",
   "version": "3.6.5"
  }
 },
 "nbformat": 4,
 "nbformat_minor": 2
}
