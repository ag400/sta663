{
 "cells": [
  {
   "cell_type": "code",
   "execution_count": null,
   "metadata": {},
   "outputs": [],
   "source": [
    "#' Construct an index matrix identifying with which states each rate varies.\n",
    "#' \n",
    "#' Called internally before rates are parsed when an epimodel object is \n",
    "#' initialized.\n",
    "#' \n",
    "#' @inheritParams init_epimodel\n",
    "#'   \n",
    "#' @return binary index matrix indicating which changes in each compartment\n",
    "#'   affect each rate\n",
    "#' @export\n",
    "\n",
    "init_rate_map <- function(rates, states) {\n",
    "          \n",
    "          # initialize matrix\n",
    "          rate_map <- matrix(0, nrow = length(rates), ncol = length(states))\n",
    "          colnames(rate_map) <- states\n",
    "          \n",
    "          # identify which states show up as arguments in each rate function\n",
    "          for(t in 1:length(rates)) {\n",
    "                    rate_map[t, sapply(states, grepl, rates[t])] <- 1\n",
    "          }\n",
    "          \n",
    "          return(rate_map)\n",
    "}"
   ]
  },
  {
   "cell_type": "code",
   "execution_count": 2,
   "metadata": {},
   "outputs": [],
   "source": [
    "def init_rate_map(rates, states):\n",
    "    \n",
    "    import numpy as np\n",
    "    \n",
    "    rate_map = np.zeros((len(rates),len(states))).astype(int)\n",
    "    \n",
    "    for t in range(0,len(rates)):\n",
    "        col_index = np.where(np.array(list(map(lambda x: (states[x] in rates[t])*1, range(len(states)))))==1)[0]\n",
    "        rate_map[np.repeat(t,len(col_index)),col_index] =1\n",
    "        \n",
    "    rate_map.dtype = [(rates[0],'int'),(rates[1],'int'),(rates[2],'int')]\n",
    "    \n",
    "    return(rate_map)"
   ]
  },
  {
   "cell_type": "code",
   "execution_count": 3,
   "metadata": {},
   "outputs": [],
   "source": [
    "import numpy as np"
   ]
  },
  {
   "cell_type": "code",
   "execution_count": 4,
   "metadata": {},
   "outputs": [
    {
     "data": {
      "text/plain": [
       "('beta*I', 'mu', 'gamma')"
      ]
     },
     "execution_count": 4,
     "metadata": {},
     "output_type": "execute_result"
    }
   ],
   "source": [
    "rates = (\"beta*I\", \"mu\", \"gamma\")\n",
    "rates"
   ]
  },
  {
   "cell_type": "code",
   "execution_count": 5,
   "metadata": {},
   "outputs": [
    {
     "data": {
      "text/plain": [
       "('S', 'I', 'R')"
      ]
     },
     "execution_count": 5,
     "metadata": {},
     "output_type": "execute_result"
    }
   ],
   "source": [
    "states = (\"S\", \"I\", \"R\")\n",
    "states"
   ]
  },
  {
   "cell_type": "code",
   "execution_count": 6,
   "metadata": {
    "scrolled": true
   },
   "outputs": [
    {
     "data": {
      "text/plain": [
       "array([[0, 0, 0],\n",
       "       [0, 0, 0],\n",
       "       [0, 0, 0]])"
      ]
     },
     "execution_count": 6,
     "metadata": {},
     "output_type": "execute_result"
    }
   ],
   "source": [
    "rate_map = np.zeros((len(rates),len(states))).astype(int)\n",
    "rate_map"
   ]
  },
  {
   "cell_type": "code",
   "execution_count": 7,
   "metadata": {},
   "outputs": [],
   "source": [
    "for t in range(0,len(rates)):\n",
    "        col_index = np.where(np.array(list(map(lambda x: (states[x] in rates[t])*1, range(len(states)))))==1)[0]\n",
    "        rate_map[np.repeat(t,len(col_index)),col_index] =1"
   ]
  },
  {
   "cell_type": "code",
   "execution_count": 8,
   "metadata": {},
   "outputs": [
    {
     "data": {
      "text/plain": [
       "array([[0, 1, 0],\n",
       "       [0, 0, 0],\n",
       "       [0, 0, 0]])"
      ]
     },
     "execution_count": 8,
     "metadata": {},
     "output_type": "execute_result"
    }
   ],
   "source": [
    "rate_map"
   ]
  },
  {
   "cell_type": "code",
   "execution_count": 9,
   "metadata": {},
   "outputs": [
    {
     "data": {
      "text/plain": [
       "(3, 3)"
      ]
     },
     "execution_count": 9,
     "metadata": {},
     "output_type": "execute_result"
    }
   ],
   "source": [
    "rate_map.shape"
   ]
  },
  {
   "cell_type": "code",
   "execution_count": 10,
   "metadata": {
    "scrolled": true
   },
   "outputs": [
    {
     "data": {
      "text/plain": [
       "array([[(0, 1, 0)],\n",
       "       [(0, 0, 0)],\n",
       "       [(0, 0, 0)]],\n",
       "      dtype=[('beta*I', '<i8'), ('mu', '<i8'), ('gamma', '<i8')])"
      ]
     },
     "execution_count": 10,
     "metadata": {},
     "output_type": "execute_result"
    }
   ],
   "source": [
    "rate_map.dtype = [(rates[0],'int'),(rates[1],'int'),(rates[2],'int')]\n",
    "rate_map"
   ]
  },
  {
   "cell_type": "code",
   "execution_count": 11,
   "metadata": {},
   "outputs": [
    {
     "data": {
      "text/plain": [
       "(3, 1)"
      ]
     },
     "execution_count": 11,
     "metadata": {},
     "output_type": "execute_result"
    }
   ],
   "source": [
    "rate_map.shape \n",
    "# notice here that the dimension of rate_map change to (3,1)\n",
    "# Ref: https://stackoverflow.com/questions/12362094/why-setting-dtype-on-numpy-array-changes-dimensions?rq=1"
   ]
  },
  {
   "cell_type": "code",
   "execution_count": 12,
   "metadata": {},
   "outputs": [
    {
     "data": {
      "text/plain": [
       "array([[0],\n",
       "       [0],\n",
       "       [0]])"
      ]
     },
     "execution_count": 12,
     "metadata": {},
     "output_type": "execute_result"
    }
   ],
   "source": [
    "rate_map['beta*I']"
   ]
  },
  {
   "cell_type": "code",
   "execution_count": 13,
   "metadata": {},
   "outputs": [
    {
     "data": {
      "text/plain": [
       "array([[1],\n",
       "       [0],\n",
       "       [0]])"
      ]
     },
     "execution_count": 13,
     "metadata": {},
     "output_type": "execute_result"
    }
   ],
   "source": [
    "rate_map['mu']"
   ]
  },
  {
   "cell_type": "code",
   "execution_count": 14,
   "metadata": {},
   "outputs": [
    {
     "data": {
      "text/plain": [
       "array([[0],\n",
       "       [0],\n",
       "       [0]])"
      ]
     },
     "execution_count": 14,
     "metadata": {},
     "output_type": "execute_result"
    }
   ],
   "source": [
    "rate_map['gamma']"
   ]
  },
  {
   "cell_type": "code",
   "execution_count": null,
   "metadata": {},
   "outputs": [],
   "source": []
  }
 ],
 "metadata": {
  "kernelspec": {
   "display_name": "Python 3",
   "language": "python",
   "name": "python3"
  },
  "language_info": {
   "codemirror_mode": {
    "name": "ipython",
    "version": 3
   },
   "file_extension": ".py",
   "mimetype": "text/x-python",
   "name": "python",
   "nbconvert_exporter": "python",
   "pygments_lexer": "ipython3",
   "version": "3.6.5"
  }
 },
 "nbformat": 4,
 "nbformat_minor": 2
}
