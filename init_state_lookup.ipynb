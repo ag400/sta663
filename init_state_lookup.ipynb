{
 "cells": [
  {
   "cell_type": "code",
   "execution_count": null,
   "metadata": {},
   "outputs": [],
   "source": [
    "#' Insert a lookup table to map subjects at risk for each transition to the appropriate rate code label \n",
    "#'\n",
    "#' @inheritParams simulate_epimodel \n",
    "#'\n",
    "#' @return character vector for mapping state codes to compartment names.\n",
    "#' @export\n",
    "\n",
    "init_state_lookup <- function(epimodel) {\n",
    "          \n",
    "          # matrix to map the state code to the compartment count\n",
    "          state_lookup <- rep(0, nrow(epimodel$flow))\n",
    "          for(k in 1:length(state_lookup)) {\n",
    "                    state_lookup[k] <- colnames(epimodel$flow)[which(epimodel$flow[k,]==-1)]\n",
    "          }\n",
    "          \n",
    "          return(state_lookup)\n",
    "}"
   ]
  },
  {
   "cell_type": "code",
   "execution_count": 1,
   "metadata": {},
   "outputs": [],
   "source": [
    "def init_stat_lookup(epimodel):\n",
    "    \n",
    "    import numpy as np\n",
    "    \n",
    "    state_lookup = []  # since state_look up is in fact a list of strings hence can not be intialized as a numpy array\n",
    "    names = flow.dtype.names # flow is a structured array whose column name is selected from \"S\"I\"R'....\n",
    "    for k in range(0,np.shape(epimodel.flow)[0]):\n",
    "        index = np.where(epimodel.flow[names[k]] == -1)[0][0]\n",
    "        state_lookup.append(names[index])\n",
    "        \n",
    "    return(state_lookup)"
   ]
  },
  {
   "cell_type": "code",
   "execution_count": 6,
   "metadata": {},
   "outputs": [],
   "source": [
    "import numpy as np"
   ]
  },
  {
   "cell_type": "code",
   "execution_count": 11,
   "metadata": {},
   "outputs": [
    {
     "data": {
      "text/plain": [
       "('S', 'I', 'R')"
      ]
     },
     "execution_count": 11,
     "metadata": {},
     "output_type": "execute_result"
    }
   ],
   "source": [
    "states = ('S','I','R')\n",
    "states"
   ]
  },
  {
   "cell_type": "code",
   "execution_count": 18,
   "metadata": {
    "scrolled": true
   },
   "outputs": [
    {
     "data": {
      "text/plain": [
       "array([[-1,  1,  0],\n",
       "       [ 0, -1,  1],\n",
       "       [ 1,  0, -1]])"
      ]
     },
     "execution_count": 18,
     "metadata": {},
     "output_type": "execute_result"
    }
   ],
   "source": [
    "flow = np.array((-1, 1, 0, 0, -1, 1, 1, 0, -1)).reshape((3,-1))\n",
    "flow"
   ]
  },
  {
   "cell_type": "code",
   "execution_count": 27,
   "metadata": {},
   "outputs": [
    {
     "data": {
      "text/plain": [
       "array([[(-1,  1,  0)],\n",
       "       [( 0, -1,  1)],\n",
       "       [( 1,  0, -1)]], dtype=[('S', '<i8'), ('I', '<i8'), ('R', '<i8')])"
      ]
     },
     "execution_count": 27,
     "metadata": {},
     "output_type": "execute_result"
    }
   ],
   "source": [
    "flow.dtype = [('S','int'),('I','int'),('R','int')]\n",
    "flow\n",
    "# flow is a structured numpy array"
   ]
  },
  {
   "cell_type": "code",
   "execution_count": 59,
   "metadata": {},
   "outputs": [
    {
     "data": {
      "text/plain": [
       "[]"
      ]
     },
     "execution_count": 59,
     "metadata": {},
     "output_type": "execute_result"
    }
   ],
   "source": [
    "state_lookup = []\n",
    "state_lookup"
   ]
  },
  {
   "cell_type": "code",
   "execution_count": 49,
   "metadata": {},
   "outputs": [
    {
     "data": {
      "text/plain": [
       "('S', 'I', 'R')"
      ]
     },
     "execution_count": 49,
     "metadata": {},
     "output_type": "execute_result"
    }
   ],
   "source": [
    "names = flow.dtype.names\n",
    "names"
   ]
  },
  {
   "cell_type": "code",
   "execution_count": 52,
   "metadata": {
    "scrolled": false
   },
   "outputs": [
    {
     "data": {
      "text/plain": [
       "(array([2]), array([0]))"
      ]
     },
     "execution_count": 52,
     "metadata": {},
     "output_type": "execute_result"
    }
   ],
   "source": [
    "np.where(flow[names[2]] == -1)"
   ]
  },
  {
   "cell_type": "code",
   "execution_count": 53,
   "metadata": {},
   "outputs": [
    {
     "data": {
      "text/plain": [
       "2"
      ]
     },
     "execution_count": 53,
     "metadata": {},
     "output_type": "execute_result"
    }
   ],
   "source": [
    "np.where(flow[names[2]] == -1)[0][0]"
   ]
  },
  {
   "cell_type": "code",
   "execution_count": 55,
   "metadata": {
    "scrolled": true
   },
   "outputs": [
    {
     "data": {
      "text/plain": [
       "'R'"
      ]
     },
     "execution_count": 55,
     "metadata": {},
     "output_type": "execute_result"
    }
   ],
   "source": [
    "flow.dtype.names[np.where(flow[names[2]] == -1)[0][0]]"
   ]
  },
  {
   "cell_type": "code",
   "execution_count": 61,
   "metadata": {},
   "outputs": [],
   "source": [
    "for k in range(0,np.shape(flow)[0]):\n",
    "        index = np.where(flow[names[k]] == -1)[0][0]\n",
    "        state_lookup.append(names[index])"
   ]
  },
  {
   "cell_type": "code",
   "execution_count": 62,
   "metadata": {},
   "outputs": [
    {
     "data": {
      "text/plain": [
       "['S', 'I', 'R']"
      ]
     },
     "execution_count": 62,
     "metadata": {},
     "output_type": "execute_result"
    }
   ],
   "source": [
    "state_lookup"
   ]
  },
  {
   "cell_type": "code",
   "execution_count": null,
   "metadata": {},
   "outputs": [],
   "source": []
  }
 ],
 "metadata": {
  "kernelspec": {
   "display_name": "Python 3",
   "language": "python",
   "name": "python3"
  },
  "language_info": {
   "codemirror_mode": {
    "name": "ipython",
    "version": 3
   },
   "file_extension": ".py",
   "mimetype": "text/x-python",
   "name": "python",
   "nbconvert_exporter": "python",
   "pygments_lexer": "ipython3",
   "version": "3.6.5"
  }
 },
 "nbformat": 4,
 "nbformat_minor": 2
}
